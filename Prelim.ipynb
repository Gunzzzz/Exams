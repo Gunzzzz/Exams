{
 "cells": [
  {
   "cell_type": "markdown",
   "metadata": {},
   "source": [
    "# Preliminary Examination"
   ]
  },
  {
   "cell_type": "markdown",
   "metadata": {},
   "source": [
    "## Palindrome Checker (25 Points)\n",
    "\n",
    "Check if the user input is a palindrome or not, using Stack Data Structure.\n",
    "\n",
    "```\n",
    "Input: 02/02/2020\n",
    "Output: 02/02/2020 is a palindrome\n",
    "Input: Hello\n",
    "Output Hello is not a palindrome\n",
    "```"
   ]
  },
  {
   "cell_type": "code",
   "execution_count": 72,
   "metadata": {},
   "outputs": [
    {
     "name": "stdout",
     "output_type": "stream",
     "text": [
      "Input: 2020/02/02\n",
      "2020/02/02 is not a Palindrome\n"
     ]
    }
   ],
   "source": [
    "# your code goes here\n",
    "class Palindrome:\n",
    "   def __init__(self):\n",
    "      self.items = []\n",
    "\n",
    "   def check(self):\n",
    "      return self.items == []\n",
    "\n",
    "   def push(self, data):\n",
    "      self.items.append(data)\n",
    "\n",
    "   def pop(self):\n",
    "      return self.items.pop()\n",
    "\n",
    "instant = Palindrome()\n",
    "text_input = input('Input: ')\n",
    "\n",
    "for char in text_input:\n",
    "   instant.push(char)\n",
    "\n",
    "reversed_text = ''\n",
    "while not instant.check():\n",
    "   reversed_text = reversed_text + instant.pop()\n",
    "\n",
    "if text_input == reversed_text:\n",
    "   print(f'' +text_input+ ' is a Palindrome')\n",
    "else:\n",
    "    print(f'' +text_input+ ' is not a Palindrome')"
   ]
  },
  {
   "cell_type": "markdown",
   "metadata": {},
   "source": [
    "## Single Input Addition (25 Points)\n",
    "\n",
    "Create a program to ask the user for 5 numbers on a single line.\n",
    "The program must display an output based from the result of the sum of first and second number multiplied to the sum of third and fourth number raised by the power of the fifth number.\n",
    "\n",
    "**FORMULA:** `((first + second) * (third + fourth)) to the fifth number's power`\n",
    "\n",
    "```\n",
    "1 2 3 4 5\n",
    "4084101\n",
    "```\n",
    "\n",
    "Where the program must ...\n",
    "  - use f-string when displaying the output\n",
    "  - Doesn't use array unpacking"
   ]
  },
  {
   "cell_type": "code",
   "execution_count": null,
   "metadata": {},
   "outputs": [],
   "source": [
    "# your code goes here\n",
    "\n",
    "\n",
    "\n"
   ]
  },
  {
   "cell_type": "markdown",
   "metadata": {},
   "source": [
    "## Creating Classes (50 Points)\n",
    "\n",
    "Create classes for the following objects and then instantiate 3 objects from each:\n",
    "-\tBook\n",
    "-\tNews Paper\n",
    "-\tMagazine\n",
    "-\tResearch Paper\n"
   ]
  },
  {
   "cell_type": "code",
   "execution_count": null,
   "metadata": {},
   "outputs": [],
   "source": [
    "# your code goes here\n",
    "class Book:\n",
    "    pass\n",
    "\n",
    "Book_1 = Book()\n",
    "Book_2 = Book()\n",
    "Book_3 = Book()\n",
    "\n",
    "class NewsPaper:\n",
    "    pass\n",
    "\n",
    "newspaper_1 = NewsPaper()\n",
    "newspaper_2 = NewsPaper()\n",
    "newspaper_3 = NewsPaper()\n",
    "\n",
    "class Magazine:\n",
    "    pass\n",
    "\n",
    "magazine_1 = Magazine()\n",
    "magazine_2 = Magazine()\n",
    "magazine_3 = Magazine()\n",
    "\n",
    "class ResearchPaper:\n",
    "    pass\n",
    "\n",
    "researchpaper_1 = ResearchPaper()\n",
    "researchpaper_2 = ResearchPaper()\n",
    "researchpaper_3 = ResearchPaper()\n",
    "\n",
    "        "
   ]
  },
  {
   "cell_type": "markdown",
   "metadata": {},
   "source": [
    "### Submission Requirement\n",
    "\n",
    "- Create a recorded screen recording (open-cam) while pushing this notebook to your repository.\n",
    "- Submit the video to the form available at our Google Classroom"
   ]
  },
  {
   "cell_type": "code",
   "execution_count": null,
   "metadata": {},
   "outputs": [],
   "source": []
  }
 ],
 "metadata": {
  "kernelspec": {
   "display_name": "Python 3",
   "language": "python",
   "name": "python3"
  },
  "language_info": {
   "codemirror_mode": {
    "name": "ipython",
    "version": 3
   },
   "file_extension": ".py",
   "mimetype": "text/x-python",
   "name": "python",
   "nbconvert_exporter": "python",
   "pygments_lexer": "ipython3",
   "version": "3.8.8"
  }
 },
 "nbformat": 4,
 "nbformat_minor": 4
}
